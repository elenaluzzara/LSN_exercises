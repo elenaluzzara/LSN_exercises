{
 "cells": [
  {
   "cell_type": "code",
   "execution_count": 203,
   "metadata": {},
   "outputs": [],
   "source": [
    "# compose the NN model\n",
    "import tensorflow as tf\n",
    "from tensorflow import keras\n",
    "\n",
    "from tensorflow.keras.models import Sequential\n",
    "from tensorflow.keras.layers import Dense, Activation\n",
    "from tensorflow.keras import backend as K\n",
    "from tensorflow.keras.utils import get_custom_objects\n",
    "\n",
    "import numpy as np\n",
    "import matplotlib.pyplot as plt"
   ]
  },
  {
   "cell_type": "markdown",
   "metadata": {},
   "source": [
    "## Exercise 11.1 \n",
    "\n",
    "The aim of this first exercise is to predict the parameters of the ideal linear function $f(x)=2x+1$ through the neural network using noisy data. "
   ]
  },
  {
   "cell_type": "markdown",
   "metadata": {},
   "source": [
    "### Dataset\n",
    "I increased the number of training points to $1000$ and the number of test points to $100$, while I chose $\\sigma=0.3$ to make data more stochastic."
   ]
  },
  {
   "cell_type": "code",
   "execution_count": 204,
   "metadata": {},
   "outputs": [],
   "source": [
    "# target parameters of f(x) = m*x + b\n",
    "m = 2 # slope\n",
    "b = 1 # intersect"
   ]
  },
  {
   "cell_type": "code",
   "execution_count": 205,
   "metadata": {},
   "outputs": [],
   "source": [
    "# generate training inputs\n",
    "np.random.seed(0)\n",
    "increase = 10\n",
    "x_train = np.random.uniform(-1, 1, 100*increase) #10troppo pochi per una buona predizione, ha imparato poco\n",
    "x_valid = np.random.uniform(-1, 1, 10*increase)\n",
    "x_valid.sort()\n",
    "y_target = m * x_valid + b # ideal (target) linear function\n",
    "\n",
    "sigma = 0.3 # noise standard deviation, for the moment it is absent\n",
    "y_train = np.random.normal(m * x_train + b, sigma) # actual measures from which we want to guess regression parameters\n",
    "y_valid = np.random.normal(m * x_valid + b, sigma)"
   ]
  },
  {
   "cell_type": "code",
   "execution_count": 206,
   "metadata": {},
   "outputs": [
    {
     "data": {
      "image/png": "[encoded data removed]",
      "text/plain": [
       "<Figure size 720x432 with 1 Axes>"
      ]
     },
     "metadata": {
      "needs_background": "light"
     },
     "output_type": "display_data"
    }
   ],
   "source": [
    "# plot training and target dataset\n",
    "plt.figure(figsize=(10, 6))\n",
    "plt.plot(x_valid, y_target)\n",
    "plt.scatter(x_valid, y_valid, color='r')\n",
    "plt.grid(True); plt.show()"
   ]
  },
  {
   "cell_type": "markdown",
   "metadata": {},
   "source": [
    "### Neural network structure\n",
    "In order to have two parameters to optimize (slope $m$ and intersect $b$) we just need a single neuron in a single hidden layer."
   ]
  },
  {
   "cell_type": "code",
   "execution_count": 207,
   "metadata": {},
   "outputs": [
    {
     "name": "stdout",
     "output_type": "stream",
     "text": [
      "Model: \"sequential_20\"\n",
      "_________________________________________________________________\n",
      "Layer (type)                 Output Shape              Param #   \n",
      "=================================================================\n",
      "dense_20 (Dense)             (None, 1)                 2         \n",
      "=================================================================\n",
      "Total params: 2\n",
      "Trainable params: 2\n",
      "Non-trainable params: 0\n",
      "_________________________________________________________________\n"
     ]
    }
   ],
   "source": [
    "model = tf.keras.Sequential()\n",
    "model.add(Dense(1, input_shape=(1,)))\n",
    "\n",
    "# compile the model choosing optimizer, loss and metrics objects\n",
    "model.compile(optimizer='sgd', loss='mse', metrics=['mse'])\n",
    "\n",
    "model.summary()"
   ]
  },
  {
   "cell_type": "markdown",
   "metadata": {},
   "source": [
    "### Training phase\n",
    "\n",
    "The training phase needs to be run several times before reaching the optimum of the cost function. An epoch is a single run in which the training dataset is passed through the neural network. A single epoch leads to underfit the function. If the number of epochs is increased the weight change in the neural network and the curve goes from underfitting to optimal to overfitting curve.\n",
    "\n",
    "I chose $N_{epochs}$ equal to $30$ because an increase of this number would not lead to much better results and because it is computationaly favoured. \n",
    "\n",
    "A banch is a subgroup of training data after which the parameters are updated. This additional operative layer is needed to avoid overfitting and to reach more efficiently and more accurately the minimum of the cost function. The *batch_size* is the number of training data points in each batch: here it is equal to $32$. At every epoch it is wise to change the $32$ training points chosen for each batch using the function *shuffle=True*. "
   ]
  },
  {
   "cell_type": "code",
   "execution_count": 208,
   "metadata": {
    "scrolled": true
   },
   "outputs": [
    {
     "name": "stdout",
     "output_type": "stream",
     "text": [
      "Epoch 1/30\n",
      "32/32 [==============================] - 0s 2ms/step - loss: 1.2067 - mse: 1.2067 - val_loss: 0.8739 - val_mse: 0.8739\n",
      "Epoch 2/30\n",
      "32/32 [==============================] - 0s 1ms/step - loss: 0.6053 - mse: 0.6053 - val_loss: 0.5119 - val_mse: 0.5119\n",
      "Epoch 3/30\n",
      "32/32 [==============================] - 0s 1ms/step - loss: 0.3662 - mse: 0.3662 - val_loss: 0.3391 - val_mse: 0.3391\n",
      "Epoch 4/30\n",
      "32/32 [==============================] - 0s 1ms/step - loss: 0.2505 - mse: 0.2505 - val_loss: 0.2445 - val_mse: 0.2445\n",
      "Epoch 5/30\n",
      "32/32 [==============================] - 0s 1ms/step - loss: 0.1875 - mse: 0.1875 - val_loss: 0.1870 - val_mse: 0.1870\n",
      "Epoch 6/30\n",
      "32/32 [==============================] - 0s 1ms/step - loss: 0.1501 - mse: 0.1501 - val_loss: 0.1501 - val_mse: 0.1501\n",
      "Epoch 7/30\n",
      "32/32 [==============================] - 0s 1ms/step - loss: 0.1267 - mse: 0.1267 - val_loss: 0.1264 - val_mse: 0.1264\n",
      "Epoch 8/30\n",
      "32/32 [==============================] - 0s 1ms/step - loss: 0.1123 - mse: 0.1123 - val_loss: 0.1102 - val_mse: 0.1102\n",
      "Epoch 9/30\n",
      "32/32 [==============================] - 0s 1ms/step - loss: 0.1027 - mse: 0.1027 - val_loss: 0.0996 - val_mse: 0.0996\n",
      "Epoch 10/30\n",
      "32/32 [==============================] - 0s 1ms/step - loss: 0.0967 - mse: 0.0967 - val_loss: 0.0921 - val_mse: 0.0921\n",
      "Epoch 11/30\n",
      "32/32 [==============================] - 0s 1ms/step - loss: 0.0927 - mse: 0.0927 - val_loss: 0.0870 - val_mse: 0.0870\n",
      "Epoch 12/30\n",
      "32/32 [==============================] - 0s 1ms/step - loss: 0.0901 - mse: 0.0901 - val_loss: 0.0835 - val_mse: 0.0835\n",
      "Epoch 13/30\n",
      "32/32 [==============================] - 0s 1ms/step - loss: 0.0885 - mse: 0.0885 - val_loss: 0.0810 - val_mse: 0.0810\n",
      "Epoch 14/30\n",
      "32/32 [==============================] - 0s 1ms/step - loss: 0.0874 - mse: 0.0874 - val_loss: 0.0791 - val_mse: 0.0791\n",
      "Epoch 15/30\n",
      "32/32 [==============================] - 0s 1ms/step - loss: 0.0867 - mse: 0.0867 - val_loss: 0.0779 - val_mse: 0.0779\n",
      "Epoch 16/30\n",
      "32/32 [==============================] - 0s 1ms/step - loss: 0.0862 - mse: 0.0862 - val_loss: 0.0769 - val_mse: 0.0769\n",
      "Epoch 17/30\n",
      "32/32 [==============================] - 0s 1ms/step - loss: 0.0859 - mse: 0.0859 - val_loss: 0.0762 - val_mse: 0.0762\n",
      "Epoch 18/30\n",
      "32/32 [==============================] - 0s 1ms/step - loss: 0.0857 - mse: 0.0857 - val_loss: 0.0756 - val_mse: 0.0756\n",
      "Epoch 19/30\n",
      "32/32 [==============================] - 0s 1ms/step - loss: 0.0856 - mse: 0.0856 - val_loss: 0.0753 - val_mse: 0.0753\n",
      "Epoch 20/30\n",
      "32/32 [==============================] - 0s 1ms/step - loss: 0.0855 - mse: 0.0855 - val_loss: 0.0750 - val_mse: 0.0750\n",
      "Epoch 21/30\n",
      "32/32 [==============================] - 0s 2ms/step - loss: 0.0854 - mse: 0.0854 - val_loss: 0.0748 - val_mse: 0.0748\n",
      "Epoch 22/30\n",
      "32/32 [==============================] - 0s 1ms/step - loss: 0.0854 - mse: 0.0854 - val_loss: 0.0745 - val_mse: 0.0745\n",
      "Epoch 23/30\n",
      "32/32 [==============================] - 0s 1ms/step - loss: 0.0854 - mse: 0.0854 - val_loss: 0.0742 - val_mse: 0.0742\n",
      "Epoch 24/30\n",
      "32/32 [==============================] - 0s 1ms/step - loss: 0.0854 - mse: 0.0854 - val_loss: 0.0741 - val_mse: 0.0741\n",
      "Epoch 25/30\n",
      "32/32 [==============================] - 0s 1ms/step - loss: 0.0854 - mse: 0.0854 - val_loss: 0.0739 - val_mse: 0.0739\n",
      "Epoch 26/30\n",
      "32/32 [==============================] - 0s 1ms/step - loss: 0.0853 - mse: 0.0853 - val_loss: 0.0739 - val_mse: 0.0739\n",
      "Epoch 27/30\n",
      "32/32 [==============================] - 0s 1ms/step - loss: 0.0854 - mse: 0.0854 - val_loss: 0.0739 - val_mse: 0.0739\n",
      "Epoch 28/30\n",
      "32/32 [==============================] - 0s 1ms/step - loss: 0.0854 - mse: 0.0854 - val_loss: 0.0739 - val_mse: 0.0739\n",
      "Epoch 29/30\n",
      "32/32 [==============================] - 0s 1ms/step - loss: 0.0853 - mse: 0.0853 - val_loss: 0.0739 - val_mse: 0.0739\n",
      "Epoch 30/30\n",
      "32/32 [==============================] - 0s 1ms/step - loss: 0.0854 - mse: 0.0854 - val_loss: 0.0739 - val_mse: 0.0739\n"
     ]
    }
   ],
   "source": [
    "# fit the model using training dataset\n",
    "# over 10 epochs of 32 batch size each\n",
    "# report training progress against validation data\n",
    "n_epochs=30\n",
    "history = model.fit(x=x_train, y=y_train, \n",
    "          batch_size=32, epochs=n_epochs,\n",
    "          shuffle=True, # a good idea is to shuffle input before at each epoch così che non usi sempre gli stessi dati di batch\n",
    "          validation_data=(x_valid, y_valid))"
   ]
  },
  {
   "cell_type": "markdown",
   "metadata": {},
   "source": [
    "### Optimized parameters "
   ]
  },
  {
   "cell_type": "code",
   "execution_count": 209,
   "metadata": {},
   "outputs": [
    {
     "name": "stdout",
     "output_type": "stream",
     "text": [
      "Optimized m =  2.0011237\n",
      "Optimized b =  1.007135\n"
     ]
    }
   ],
   "source": [
    "# return weights\n",
    "optm, optb = model.get_weights()\n",
    "print(\"Optimized m = \", optm[0][0])\n",
    "print(\"Optimized b = \", optb[0])"
   ]
  },
  {
   "cell_type": "markdown",
   "metadata": {},
   "source": [
    "### Performance "
   ]
  },
  {
   "cell_type": "code",
   "execution_count": 210,
   "metadata": {},
   "outputs": [
    {
     "name": "stdout",
     "output_type": "stream",
     "text": [
      "4/4 [==============================] - 0s 524us/step - loss: 0.0739 - mse: 0.0739\n",
      "\n",
      "Test loss: 0.07392019033432007\n",
      "Test accuracy: 0.07392019033432007\n",
      "4/4 [==============================] - 0s 541us/step - loss: 5.0772e-05 - mse: 5.0772e-05\n",
      "\n",
      "Test loss: 5.0772232498275116e-05\n",
      "Test accuracy: 5.0772232498275116e-05\n"
     ]
    }
   ],
   "source": [
    "# evaluate model\n",
    "score = model.evaluate(x_valid, y_valid, batch_size=32, verbose=1)\n",
    "\n",
    "# print performance\n",
    "print()\n",
    "print('Test loss:', score[0])\n",
    "print('Test accuracy:', score[1])\n",
    "\n",
    "# evaluate model with the exact curve\n",
    "score = model.evaluate(x_valid, y_target, batch_size=32, verbose=1)\n",
    "\n",
    "# print performance\n",
    "print()\n",
    "print('Test loss:', score[0])\n",
    "print('Test accuracy:', score[1])"
   ]
  },
  {
   "cell_type": "markdown",
   "metadata": {},
   "source": [
    "### Training and validation loss values "
   ]
  },
  {
   "cell_type": "code",
   "execution_count": 211,
   "metadata": {},
   "outputs": [
    {
     "data": {
      "image/png": "[encoded data removed]",
      "text/plain": [
       "<Figure size 432x288 with 1 Axes>"
      ]
     },
     "metadata": {
      "needs_background": "light"
     },
     "output_type": "display_data"
    }
   ],
   "source": [
    "# look into training history\n",
    "# Plot training & validation loss values\n",
    "plt.plot(history.history['loss'])\n",
    "plt.plot(history.history['val_loss'])\n",
    "model_epochs = np.column_stack((history.history['loss'],history.history['val_loss']))\n",
    "#np.savetxt(f\"{n_train}_model_sigma{sigma}_{n_epochs}epochs.out\",model_epochs)\n",
    "plt.title('Model loss')\n",
    "plt.ylabel('Loss')\n",
    "plt.xlabel('Epoch')\n",
    "plt.legend(['Train', 'Test'], loc='best')\n",
    "plt.show()"
   ]
  },
  {
   "cell_type": "markdown",
   "metadata": {},
   "source": [
    "### Prediction of the model"
   ]
  },
  {
   "cell_type": "code",
   "execution_count": 212,
   "metadata": {},
   "outputs": [
    {
     "data": {
      "image/png": "[encoded data removed]",
      "text/plain": [
       "<Figure size 720x432 with 1 Axes>"
      ]
     },
     "metadata": {
      "needs_background": "light"
     },
     "output_type": "display_data"
    }
   ],
   "source": [
    "plt.figure(figsize=(10, 6))\n",
    "x_predicted = np.random.uniform(-1, 1, 100)\n",
    "y_predicted = model.predict(x_predicted)\n",
    "plt.scatter(x_predicted, y_predicted,color='r')\n",
    "plt.plot(x_valid, y_target)\n",
    "xy = np.column_stack((x_predicted, y_predicted))\n",
    "#np.savetxt(f\"prediction_sigma{sigma}_{n_train}_{n_epochs}epochs.dat\",xy)\n",
    "plt.grid(True)\n",
    "plt.show()"
   ]
  },
  {
   "cell_type": "markdown",
   "metadata": {},
   "source": [
    "How does the linear regression depend on the number of epochs, $N_{\\mathrm{epochs}}$, the number of data points $N_{\\mathrm{train}}$ and on the noise $\\sigma$?\n",
    "\n",
    "Mainting fixed $N_{train}$ and $\\sigma$ ($>0$), a higher number of epochs $N_{\\mathrm{epochs}}$ can improve the prediction. However, to avoid overfitting and for computational reason it is better to increase the number of data points used for the training the machine ($N_{train}$) to get better results with a small number of epochs. \n",
    "\n",
    "By running the program several times changing the parameters, I noticed that a number of train data less than $100$ is too small: the system doesn't learn enough to do good prediction. A number of $N_{train}$ equal to $100$ and $\\sigma = 0.3$ requires a $N_{epochs}$ higher than $80$ to give a good result. However increasing the $N_{train}$ to $1000$ allows the system to predicted well even with a $N_{epochs}$ equal to $30$ and, as I said above, it is computationally favoured.  \n",
    "\n",
    "Mainting fixed $N_{train}$ to $1000$ and $N_{epochs}$ to $30$ and changing $\\sigma$ from $0.3$ to $0.7$ didn't affect a lot the good prediction, but it did increase the loss function. "
   ]
  }
 ],
 "metadata": {
  "kernelspec": {
   "display_name": "Python 3",
   "language": "python",
   "name": "python3"
  },
  "language_info": {
   "codemirror_mode": {
    "name": "ipython",
    "version": 3
   },
   "file_extension": ".py",
   "mimetype": "text/x-python",
   "name": "python",
   "nbconvert_exporter": "python",
   "pygments_lexer": "ipython3",
   "version": "3.7.4"
  }
 },
 "nbformat": 4,
 "nbformat_minor": 2
}
