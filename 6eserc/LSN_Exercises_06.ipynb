{
 "cells": [
  {
   "cell_type": "markdown",
   "metadata": {},
   "source": [
    "# <span style=\"color:green\"> Numerical Simulation Laboratory (NSL) </span>\n",
    "## <span style=\"color:blue\">  Numerical exercises 6</span>\n"
   ]
  },
  {
   "cell_type": "markdown",
   "metadata": {},
   "source": [
    "In Statistical Mechanics the one-dimensional (1D) Ising Model is exactly resoluble. The Hamiltonian for a system of N spins with nearest neighbors interaction is given by (in the following I will assume units such that $\\mu_B=1$ and $k_B=1$):\n",
    "\n",
    "$$\n",
    "H = \n",
    "-J\\sum_{i=1}^N s_i s_{i+1}\n",
    "-\\frac{h}{2}\\sum_{i=1}^N (s_i + s_{i+1}) \n",
    "$$\n",
    "\n",
    "where $\\{ s_i \\}_{i=1,N}$ are spin variables taking values in $\\{-1;1\\}$, $J>0$ (ferromagnetic model),and with the assumption $s_{N+1} = s_{1}$. #pbc\n",
    "\n",
    "The partition function for $N$ spins, $Z$, can be exactly computed and it turns out to be:\n",
    "\n",
    "$$\n",
    "Z=\\sum_{\\{ s_i \\}} \\exp \\left( -\\beta H\\right) = \\lambda_1^N + \\lambda_2^N\n",
    "$$\n",
    "\n",
    "where\n",
    "$\\lambda_{1,2} = \n",
    "e^{\\beta J} \n",
    "\\cosh (\\beta h) \\pm \\left[ e^{2\\beta J} \\cosh^2 (\\beta h) - 2\\sinh (2\\beta J) \\right]^{1/2}$, \n",
    "and where $\\beta=\\frac{1}{k_b T} = \\frac{1}{T}$.\n",
    "Once the partition function has been computed, the Helmholtz free energy is readly obtained as $A = -k_B T \\ln Z$. All the thermodynamic quantities of interest can be deduced from $A$ or, equivalently, from $Z$:\n",
    "\n",
    "- the **Internal Energy** per spin (with $h=0$):\n",
    "\n",
    "$$\n",
    "\\frac{U(N,T)}{N} = \\frac{\\langle H \\rangle}{N}\n",
    "= \\frac{1}{N} \\sum_{\\{ s_i \\}} H \\frac{\\exp \\left( -\\beta H\\right)}{Z}\n",
    "= -\\frac{1}{N}\\frac{\\partial \\ln Z}{\\partial \\beta}\n",
    "\\underset{h=0}= -J \\tanh (\\beta J) \\Biggl( \\frac{1 + \\tanh^{N-2} (\\beta J)}{1+\\tanh^N (\\beta J)} \\Biggl)\n",
    "$$"
   ]
  },
  {
   "cell_type": "code",
   "execution_count": null,
   "metadata": {},
   "outputs": [],
   "source": [
    "#noi ci fermiamo alla 3 uguaglianza che utiliziamo nella simulazione"
   ]
  },
  {
   "cell_type": "code",
   "execution_count": 2,
   "metadata": {},
   "outputs": [
    {
     "data": {
      "text/plain": [
       "<Figure size 640x480 with 1 Axes>"
      ]
     },
     "metadata": {},
     "output_type": "display_data"
    }
   ],
   "source": [
    "#qui stiamo graficando la U/N analiticamente\n",
    "import numpy as np\n",
    "import matplotlib.pyplot as plt\n",
    "points=100\n",
    "T = np.linspace(0.2,3.0,num=points)\n",
    "beta = 1/T\n",
    "J = 1.0\n",
    "Ns = 50\n",
    "th = np.tanh(J/T)\n",
    "thN= th**Ns\n",
    "ch = 1/th\n",
    "e = -J*( th + ch*thN )/( 1 + thN )\n",
    "plt.plot(T, e)\n",
    "plt.title('Ising 1D, internal energy')\n",
    "plt.xlabel('T')\n",
    "plt.ylabel('U/N')\n",
    "plt.show()"
   ]
  },
  {
   "cell_type": "markdown",
   "metadata": {},
   "source": [
    "- the **Heat Capacity** (with $h=0$):\n",
    "\n",
    "$$\n",
    "C(N,T) = \\frac{\\partial U(N,T)}{\\partial T}\n",
    "= \\frac{\\partial \\beta}{\\partial T}\\frac{\\partial U}{\\partial \\beta}\n",
    "= -k_B\\beta^2 \\frac{\\partial}{\\partial \\beta} \\left[ \\sum_{\\{ s_i \\}} H \\frac{\\exp \\left( -\\beta H\\right)}{Z} \\right] = \\\\\n",
    "= -k_B\\beta^2 \\left[ -\\sum_{\\{ s_i \\}} H^2 \\frac{\\exp \\left( -\\beta H\\right)}{Z} + \\sum_{\\{ s_i \\}} H \\exp \\left( -\\beta H\\right)\\frac{\\partial Z^{-1}}{\\partial \\beta} \\right] = \\\\\n",
    "= k_B\\beta^2 \\left\\{ \\sum_{\\{ s_i \\}} H^2 \\frac{\\exp \\left( -\\beta H\\right)}{Z} + \\left[ \\sum_{\\{ s_i \\}} H \\frac{\\exp \\left( -\\beta H\\right)}{Z}\\right]\\frac{1}{Z}\\frac{\\partial Z}{\\partial \\beta} \\right\\} =\\\\\n",
    "= k_B\\beta^2 \\left\\{ \\sum_{\\{ s_i \\}} H^2 \\frac{\\exp \\left( -\\beta H\\right)}{Z} - \\left[ \\sum_{\\{ s_i \\}} H \\frac{\\exp \\left( -\\beta H\\right)}{Z}\\right]^2 \\right\\} =\n",
    "k_B\\beta^2 \\left(\\langle H^2 \\rangle -\\langle H \\rangle^2 \\right)\n",
    "$$\n",
    "Abbiamo ricavato teo di diss-flutt\n",
    "$$\n",
    "\\frac{C(N,T)}{N} = \\frac{1}{N}\\frac{\\partial U(N,T)}{\\partial T} =\\\\\n",
    "\\underset{h=0}= \n",
    "k_B (\\beta J)^2 \\left\\{ 1+\\tanh^N (\\beta J)+(N-1)\\tanh^2 (\\beta J)+(N-1)\\frac{\\tanh^{N-2} (\\beta J)}{1+\\tanh^N (\\beta J)}\n",
    "- N \\left[ \\frac{\\tanh (\\beta J) + \\tanh^{N-1} (\\beta J)}{1+\\tanh^N (\\beta J)} \\right]^2 \\right\\}\n",
    "$$"
   ]
  },
  {
   "cell_type": "code",
   "execution_count": 3,
   "metadata": {},
   "outputs": [
    {
     "data": {
      "image/png": "[encoded data removed]",
      "text/plain": [
       "<Figure size 432x288 with 1 Axes>"
      ]
     },
     "metadata": {
      "needs_background": "light"
     },
     "output_type": "display_data"
    }
   ],
   "source": [
    "heat=((beta*J)**2)*(((1+thN+(Ns-1)*(th**2)+(Ns-1)*(ch**2)*thN)/(1+thN))-Ns*((th+ch*thN)/(1+thN))**2)\n",
    "plt.plot(T, heat)\n",
    "plt.title('Ising 1D, Heat capacity')\n",
    "plt.xlabel('T')\n",
    "plt.ylabel('C')\n",
    "plt.grid(True)\n",
    "plt.show()\n",
    "#la vera transizione di fase si ha solo a temp 0 = TF banale "
   ]
  },
  {
   "cell_type": "markdown",
   "metadata": {},
   "source": [
    "- The **magnetization** (with $h \\not= 0$):\n",
    "\n",
    "Note that with $h=0$ the magnetization $M(N,T,h=0)=\\langle \\sum_{i=1,N}s_i \\rangle =0$ because in 1D we cannot have a (ferromagnetic) phase transition in absence of an external magnetic field. #per ogni temp diversa da 0 \n",
    "\n",
    "$$\n",
    "M(N,T,h) = -\\frac{\\partial A}{\\partial h} = k_B T \\frac{\\partial \\ln Z}{\\partial h} =\n",
    "\\frac{1}{\\beta} \\frac{1}{Z}\\frac{\\partial}{\\partial h}\\sum_{\\{ s_i \\}} \\exp \\left( -\\beta H\\right) = \\sum_{\\{ s_i \\}} \\left[ \\sum_{i=1,N}s_i\\right] \\frac{\\exp \\left( -\\beta H\\right)}{Z} = \\left\\langle \\sum_{i=1,N}s_i \\right\\rangle\n",
    "$$\n",
    "\n",
    "The exact formula from $M(N,T,h) = k_B T \\dfrac{\\partial \\ln Z}{\\partial h}$ is:\n",
    "$$\n",
    "\\frac{M(N,T,h)}{N}=\\frac{e^{\\beta J}\\; \\sinh(\\beta h)}{Z} \\; \\Bigl[\\lambda_1^{N-1}\\cdot \\Bigl(1+\\frac{e^{\\beta J}\\; \\cosh(\\beta h)}{\\sqrt{e^{2\\beta J} \\cosh^2 (\\beta h) - 2\\sinh (2\\beta J)}}\\Bigr) + \\lambda_2^{N-1}\\cdot \\Bigl(1-\\frac{e^{\\beta J}\\; \\cosh(\\beta h)}{\\sqrt{e^{2\\beta J} \\cosh^2 (\\beta h) - 2\\sinh (2\\beta J)}}\\Bigr)\\Bigr]\n",
    "$$"
   ]
  },
  {
   "cell_type": "code",
   "execution_count": 3,
   "metadata": {},
   "outputs": [
    {
     "data": {
      "image/png": "[encoded data removed]",
      "text/plain": [
       "<Figure size 432x288 with 1 Axes>"
      ]
     },
     "metadata": {
      "needs_background": "light"
     },
     "output_type": "display_data"
    }
   ],
   "source": [
    "h=0.02 #external field\n",
    "b = 1/T\n",
    "\n",
    "l1 = np.exp(b*J)*np.cosh(b*h)+np.sqrt(np.exp(2*b*J)*np.cosh(b*h)*np.cosh(b*h)-2*np.sinh(2*b*J))\n",
    "l2 = np.exp(b*J)*np.cosh(b*h)-np.sqrt(np.exp(2*b*J)*np.cosh(b*h)*np.cosh(b*h)-2*np.sinh(2*b*J))\n",
    "Z = l1**Ns + l2**Ns\n",
    "M = (np.exp(b*J)*np.sinh(b*h)*((l1**(Ns-1))*(1+np.exp(b*J)*np.cosh(b*h)/np.sqrt(np.exp(2*b*J)*np.cosh(b*h)*np.cosh(b*h)-2*np.sinh(2*b*J))) \n",
    "        + (l2**(Ns-1))*(1-np.exp(b*J)*np.cosh(b*h)/np.sqrt(np.exp(2*b*J)*np.cosh(b*h)*np.cosh(b*h)-2*np.sinh(2*b*J)))))/(Z)\n",
    "plt.plot(T, M)\n",
    "plt.title('Ising 1D, magnetization M with h = 0.02')\n",
    "plt.xlabel('T')\n",
    "plt.ylabel('$M$')\n",
    "plt.grid(True)\n",
    "plt.show()\n",
    "#M non è uguale a 0 neanche a T alte per la presenza del campo magn esternp"
   ]
  },
  {
   "cell_type": "code",
   "execution_count": 6,
   "metadata": {},
   "outputs": [],
   "source": [
    "plt.axis?"
   ]
  },
  {
   "cell_type": "markdown",
   "metadata": {},
   "source": [
    "- The **magnetic susceptibility** (with $h=0$):\n",
    "\n",
    "$$\n",
    "\\chi(N,T) = \\frac{\\partial M}{\\partial h} = \n",
    "\\frac{\\partial}{\\partial h}\\sum_{\\{ s_i \\}} \\left[ \\sum_{i=1,N}s_i\\right] \\frac{\\exp \\left( -\\beta H\\right)}{Z} =\\\\\n",
    "= \\beta\\sum_{\\{ s_i \\}} \\left[ \\sum_{i=1,N}s_i\\right]^2 \\frac{\\exp \\left( -\\beta H\\right)}{Z}\n",
    "-\\sum_{\\{ s_i \\}} \\left[ \\sum_{i=1,N}s_i\\right] \\frac{\\exp \\left( -\\beta H\\right)}{Z}\n",
    "\\frac{1}{Z}\\frac{\\partial Z}{\\partial h} = \n",
    "\\beta \\left[ \\left\\langle \\left( \\sum_{i=1,N}s_i \\right)^2 \\right\\rangle - \\left\\langle \\sum_{i=1,N}s_i \\right\\rangle^2 \\right] = \\\\\n",
    "\\underset{h=0}= \\beta \\left[ \\left\\langle \\left( \\sum_{i=1,N}s_i \\right)^2 \\right\\rangle \\right] = \\beta e^{2\\beta J} \\Biggl( \\frac{1-\\tanh^N (\\beta J)}{1+\\tanh^N (\\beta J)} \\Biggl)\n",
    "$$"
   ]
  },
  {
   "cell_type": "code",
   "execution_count": 4,
   "metadata": {},
   "outputs": [
    {
     "data": {
      "image/png": "[encoded data removed]",
      "text/plain": [
       "<Figure size 432x288 with 1 Axes>"
      ]
     },
     "metadata": {
      "needs_background": "light"
     },
     "output_type": "display_data"
    }
   ],
   "source": [
    "X = beta*np.exp(2*beta*J)*(1-thN)/(1+thN)\n",
    "plt.plot(T, X)\n",
    "plt.title('Ising 1D, Susceptibility')\n",
    "plt.xlabel('T')\n",
    "plt.ylabel('$\\chi$')\n",
    "plt.grid(True)\n",
    "plt.show()\n",
    "#chi è uguale a beta volta le fluttuazione quadratiche della configurazione degli spin \n",
    "#come si vede dalla terza uguaglianza \n",
    "#e nell'ultima riga si vede che con h=0 "
   ]
  },
  {
   "cell_type": "markdown",
   "metadata": {},
   "source": [
    "### Exercise 06.1\n",
    "\n",
    "Complete the C++ code to simulate 1D Ising model (It is available on the Ariel web site of this Laboratory) with \n",
    "- the Metropolis sampling algorithm and\n",
    "- the Gibbs sampling algorithm\n",
    "\n",
    "to sample the Boltzmann's weight $p(\\{ s_i \\}) = \\exp(-\\beta H)/Z$,\n",
    "adding also the possibility to restart from a previous spin configuration.\n",
    "\n",
    "The code already computes the internal energy: $U(N,T) = \\langle H \\rangle$. Add the calculation of $C(N,T)$, $\\chi(N,T)$, $M(N,T,h)$ and compute:\n",
    "1. $U(N,T) = \\langle H \\rangle_{h=0}$\n",
    "2. $C(N,T) = k_B \\beta^2 (\\langle H^2 \\rangle_{h=0}-\\langle H \\rangle_{h=0}^2)$ \n",
    "3. $\\chi(N,T) = \\beta \\langle (\\sum_{i=1,N}s_i)^2 \\rangle_{h=0}$\n",
    "4. $M(N,T,h=0.02)= \\langle \\sum_{i=1,N}s_i \\rangle_{h=0.02}$\n",
    "\n",
    "as a function of $T$ in the range $\\left[0.5;2.0\\right]$ for a system of $N=50$ spins with $J=1$. #con T =0 è difficile perchè il sistema accetta configurazioni molto raramente e quindi la simu durerebbe troppo\n",
    "\n",
    "As usual, use data blocking and give an estimate of the statistical uncertainties."
   ]
  },
  {
   "cell_type": "markdown",
   "metadata": {},
   "source": [
    "- <span style=\"color:red\">Show pictures of your estimations of $U(N,T)$, $C(N,T)$, $\\chi(N,T)$, $M(N,T,h=0.02)$ and their uncertainties</span> obtained with a large number of *MC steps* (e.g. $M\\ge 10^5$) compared with the exact curves. In the same picture show your results obtained with both sampling methods, Metropolis and Gibbs.\n",
    "\n",
    "A Monte Carlo step will consist in trying to flip one time all the spins of the system. Do not forget to equilibrate your simulations and to use blocking average with blocks large enough."
   ]
  }
 ],
 "metadata": {
  "kernelspec": {
   "display_name": "Python 3",
   "language": "python",
   "name": "python3"
  },
  "language_info": {
   "codemirror_mode": {
    "name": "ipython",
    "version": 3
   },
   "file_extension": ".py",
   "mimetype": "text/x-python",
   "name": "python",
   "nbconvert_exporter": "python",
   "pygments_lexer": "ipython3",
   "version": "3.7.4"
  }
 },
 "nbformat": 4,
 "nbformat_minor": 2
}
