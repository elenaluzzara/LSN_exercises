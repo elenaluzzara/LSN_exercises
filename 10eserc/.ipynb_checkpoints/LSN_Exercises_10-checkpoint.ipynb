{
 "cells": [
  {
   "cell_type": "markdown",
   "metadata": {},
   "source": [
    "# <span style=\"color:green\"> Numerical Simulation Laboratory (NSL) </span>\n",
    "## <span style=\"color:blue\">  Numerical exercises 10</span>"
   ]
  },
  {
   "cell_type": "markdown",
   "metadata": {},
   "source": [
    "### Exercise 10.1\n",
    "\n",
    "By adapting your Genetic Algorithm code, developed during the Numerical Exercise 9, write a C++ code to solve the TSP with a **Simulated Annealing** (SA) algorithm (non si ha una popolazione ma solo un individuo iniziale!!! per gli operatori di mutazioni faccio metropolis che produce cammino stocastico tra ipotesi percorsi del salesman, parto da cammino e costruisco un'energia che è legata a L e campioniamo e^(-betaenergia) con beta temp fittizia che deve essere scelta all'inizio in modo da visitare ampliamento lo spazio delle fasi, poi si abbassa la temp -> a temp bassa si trova la soluzione ottimale. Togliere crossover! non ha senso equilibrare e non ha senso applicare bilancio dettagliato perchè è un'ottimizzazione). Apply your code to the optimization of a path among \n",
    "\n",
    "- 30 cities randomly placed on a circumference\n",
    "- 30 cities randomly placed inside a square\n",
    "\n",
    "Show your results via:\n",
    "\n",
    "- a picture of the length of the best path as a function of the iteration of your algorithm\n",
    "- a picture of the best path (per ogni passo della catena di markov cioè a ogni temp?)"
   ]
  },
  {
   "cell_type": "markdown",
   "metadata": {},
   "source": [
    "### Exercise 10.2\n",
    "\n",
    "Parallelize with MPI libraries your Simulated Annealing code in order to solve the TSP by performing a *Random Search* with **parallel SA searches of the optimal path**:\n",
    "each node should perform an independent SA search and only in the end you will compare the results of each node.\n",
    "Apply your code to the *usual* TSP problems above. A ogni nodo del calcolo si dovrà leggere una riga nuova di Primes così abbiamo sequenze stocastiche differenti -> 4 algoritmi genetiche. ogni n generation parte la migrazione e quando parte questi 4 core si scambiano il loro migliore individuo e così via.. questa elaborazione parallela del GA produce un algoritmo più prestante? Applichiamolo alle 32 città all'interno di un quadrato. \n",
    "ciclo: chiedo al core i-esimo di leggere la riga i-esima per il Primes oppure fai leggere a tutti e 4 le 4 righe le metti in un vettore e poi fai leggere di questo vettore solo la \"riga\" (elemento del vettore) che corrisponde al tuo rank \n",
    "alla fine dobbiamo avere evoluzione dei continenti e i migliori.. nel fare output è opportuno che ogni noto scriva su un file diverso \n",
    "trasferire dati semplici e il percorso scambiato con i dati va sovrascritto nel migliore \n",
    "\n",
    "La comunicazione tra rank non ammette classi (nel singolo processo sì), ma bisogna estrarre il dato dalla classe quando si passa il migliore degli oggetti tra i diversi rank "
   ]
  }
 ],
 "metadata": {
  "kernelspec": {
   "display_name": "Python 3",
   "language": "python",
   "name": "python3"
  },
  "language_info": {
   "codemirror_mode": {
    "name": "ipython",
    "version": 3
   },
   "file_extension": ".py",
   "mimetype": "text/x-python",
   "name": "python",
   "nbconvert_exporter": "python",
   "pygments_lexer": "ipython3",
   "version": "3.7.4"
  }
 },
 "nbformat": 4,
 "nbformat_minor": 2
}
