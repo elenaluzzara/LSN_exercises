{
 "cells": [
  {
   "cell_type": "code",
   "execution_count": null,
   "metadata": {},
   "outputs": [],
   "source": [
    "import matplotlib\n",
    "import matplotlib.pyplot as plt\n",
    "import numpy as np\n",
    "import math\n",
    "\n",
    "energy = np.loadtxt(\"instant_epot.out\", usecols=(0,1), unpack='true')\n",
    "pression = np.loadtxt(\"instant_pres.out\", usecols=(0,1), unpack='true')\n",
    "\n",
    "def funz_autocorr(valore,passo):\n",
    "    for i in range(10E5)\n",
    "        if(i + passo <= 10E5)\n",
    "            prodotto += valore[i]*valore[i+passo]\n",
    "    for i in range(10E5)\n",
    "        somma += valore[i]\n",
    "        somma2 += pow(valore[i],2)\n",
    "    prodotto =/(10E5)\n",
    "    somma = pow(somma/(10E5),2)\n",
    "    somma2 =/(10E5)\n",
    "    devstd = math.sqrt((somma2-somma)/(10E5-1))\n",
    "    \n",
    "for t in 1000 \n",
    "    energy_autocorr[t] = funz_autocorr(energy,t)\n",
    "    pression_autocorr[t] = funz_autocorr(pression,t)\n",
    "\n",
    "\n",
    "\n",
    "\n",
    "\n",
    "         "
   ]
  }
 ],
 "metadata": {
  "kernelspec": {
   "display_name": "Python 3",
   "language": "python",
   "name": "python3"
  },
  "language_info": {
   "codemirror_mode": {
    "name": "ipython",
    "version": 3
   },
   "file_extension": ".py",
   "mimetype": "text/x-python",
   "name": "python",
   "nbconvert_exporter": "python",
   "pygments_lexer": "ipython3",
   "version": "3.7.4"
  }
 },
 "nbformat": 4,
 "nbformat_minor": 2
}
